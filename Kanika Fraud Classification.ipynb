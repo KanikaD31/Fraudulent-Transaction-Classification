{
 "cells": [
  {
   "cell_type": "code",
   "execution_count": 1,
   "id": "2408af33",
   "metadata": {},
   "outputs": [],
   "source": [
    "import numpy as np\n",
    "import pandas as pd \n",
    "import matplotlib.pyplot as plt\n",
    "%matplotlib inline\n",
    "import seaborn as sns"
   ]
  },
  {
   "cell_type": "code",
   "execution_count": 2,
   "id": "7a706616",
   "metadata": {},
   "outputs": [],
   "source": [
    "fd=pd.read_csv(r\"C:\\Users\\DELL\\Downloads\\Fraud.csv\",encoding=\"latin1\")"
   ]
  },
  {
   "cell_type": "code",
   "execution_count": 3,
   "id": "e3da5348",
   "metadata": {},
   "outputs": [
    {
     "data": {
      "text/plain": [
       "(6362620, 11)"
      ]
     },
     "execution_count": 3,
     "metadata": {},
     "output_type": "execute_result"
    }
   ],
   "source": [
    "fd.shape"
   ]
  },
  {
   "cell_type": "code",
   "execution_count": 5,
   "id": "17a39d97",
   "metadata": {},
   "outputs": [
    {
     "data": {
      "text/html": [
       "<div>\n",
       "<style scoped>\n",
       "    .dataframe tbody tr th:only-of-type {\n",
       "        vertical-align: middle;\n",
       "    }\n",
       "\n",
       "    .dataframe tbody tr th {\n",
       "        vertical-align: top;\n",
       "    }\n",
       "\n",
       "    .dataframe thead th {\n",
       "        text-align: right;\n",
       "    }\n",
       "</style>\n",
       "<table border=\"1\" class=\"dataframe\">\n",
       "  <thead>\n",
       "    <tr style=\"text-align: right;\">\n",
       "      <th></th>\n",
       "      <th>step</th>\n",
       "      <th>type</th>\n",
       "      <th>amount</th>\n",
       "      <th>nameOrig</th>\n",
       "      <th>oldbalanceOrg</th>\n",
       "      <th>newbalanceOrig</th>\n",
       "      <th>nameDest</th>\n",
       "      <th>oldbalanceDest</th>\n",
       "      <th>newbalanceDest</th>\n",
       "      <th>isFraud</th>\n",
       "      <th>isFlaggedFraud</th>\n",
       "    </tr>\n",
       "  </thead>\n",
       "  <tbody>\n",
       "    <tr>\n",
       "      <th>6286324</th>\n",
       "      <td>660</td>\n",
       "      <td>TRANSFER</td>\n",
       "      <td>51725.86</td>\n",
       "      <td>C141049972</td>\n",
       "      <td>51725.86</td>\n",
       "      <td>0.00</td>\n",
       "      <td>C823707248</td>\n",
       "      <td>0.00</td>\n",
       "      <td>0.00</td>\n",
       "      <td>1</td>\n",
       "      <td>0</td>\n",
       "    </tr>\n",
       "    <tr>\n",
       "      <th>4527315</th>\n",
       "      <td>326</td>\n",
       "      <td>PAYMENT</td>\n",
       "      <td>6682.99</td>\n",
       "      <td>C580852574</td>\n",
       "      <td>51548.00</td>\n",
       "      <td>44865.01</td>\n",
       "      <td>M2037757880</td>\n",
       "      <td>0.00</td>\n",
       "      <td>0.00</td>\n",
       "      <td>0</td>\n",
       "      <td>0</td>\n",
       "    </tr>\n",
       "    <tr>\n",
       "      <th>6308618</th>\n",
       "      <td>686</td>\n",
       "      <td>PAYMENT</td>\n",
       "      <td>14120.28</td>\n",
       "      <td>C1667141850</td>\n",
       "      <td>266807.56</td>\n",
       "      <td>252687.28</td>\n",
       "      <td>M1337477202</td>\n",
       "      <td>0.00</td>\n",
       "      <td>0.00</td>\n",
       "      <td>0</td>\n",
       "      <td>0</td>\n",
       "    </tr>\n",
       "    <tr>\n",
       "      <th>1057427</th>\n",
       "      <td>96</td>\n",
       "      <td>CASH_IN</td>\n",
       "      <td>56939.48</td>\n",
       "      <td>C822866920</td>\n",
       "      <td>14758.00</td>\n",
       "      <td>71697.48</td>\n",
       "      <td>C1803736914</td>\n",
       "      <td>0.00</td>\n",
       "      <td>0.00</td>\n",
       "      <td>0</td>\n",
       "      <td>0</td>\n",
       "    </tr>\n",
       "    <tr>\n",
       "      <th>1787661</th>\n",
       "      <td>162</td>\n",
       "      <td>PAYMENT</td>\n",
       "      <td>3486.37</td>\n",
       "      <td>C1011540826</td>\n",
       "      <td>0.00</td>\n",
       "      <td>0.00</td>\n",
       "      <td>M1936879813</td>\n",
       "      <td>0.00</td>\n",
       "      <td>0.00</td>\n",
       "      <td>0</td>\n",
       "      <td>0</td>\n",
       "    </tr>\n",
       "    <tr>\n",
       "      <th>4963835</th>\n",
       "      <td>351</td>\n",
       "      <td>PAYMENT</td>\n",
       "      <td>10408.51</td>\n",
       "      <td>C1882153612</td>\n",
       "      <td>47741.00</td>\n",
       "      <td>37332.49</td>\n",
       "      <td>M137881797</td>\n",
       "      <td>0.00</td>\n",
       "      <td>0.00</td>\n",
       "      <td>0</td>\n",
       "      <td>0</td>\n",
       "    </tr>\n",
       "    <tr>\n",
       "      <th>3881152</th>\n",
       "      <td>283</td>\n",
       "      <td>CASH_OUT</td>\n",
       "      <td>29608.18</td>\n",
       "      <td>C1376787118</td>\n",
       "      <td>944673.00</td>\n",
       "      <td>915064.82</td>\n",
       "      <td>C1059635183</td>\n",
       "      <td>15348.05</td>\n",
       "      <td>44956.23</td>\n",
       "      <td>0</td>\n",
       "      <td>0</td>\n",
       "    </tr>\n",
       "    <tr>\n",
       "      <th>1292406</th>\n",
       "      <td>135</td>\n",
       "      <td>CASH_OUT</td>\n",
       "      <td>130929.31</td>\n",
       "      <td>C42668937</td>\n",
       "      <td>51555.00</td>\n",
       "      <td>0.00</td>\n",
       "      <td>C1948524909</td>\n",
       "      <td>0.00</td>\n",
       "      <td>130929.31</td>\n",
       "      <td>0</td>\n",
       "      <td>0</td>\n",
       "    </tr>\n",
       "    <tr>\n",
       "      <th>3852398</th>\n",
       "      <td>283</td>\n",
       "      <td>PAYMENT</td>\n",
       "      <td>10116.13</td>\n",
       "      <td>C763851647</td>\n",
       "      <td>0.00</td>\n",
       "      <td>0.00</td>\n",
       "      <td>M1911919797</td>\n",
       "      <td>0.00</td>\n",
       "      <td>0.00</td>\n",
       "      <td>0</td>\n",
       "      <td>0</td>\n",
       "    </tr>\n",
       "    <tr>\n",
       "      <th>2315430</th>\n",
       "      <td>188</td>\n",
       "      <td>CASH_OUT</td>\n",
       "      <td>155045.58</td>\n",
       "      <td>C1628777944</td>\n",
       "      <td>0.00</td>\n",
       "      <td>0.00</td>\n",
       "      <td>C976352450</td>\n",
       "      <td>3161309.71</td>\n",
       "      <td>3180687.04</td>\n",
       "      <td>0</td>\n",
       "      <td>0</td>\n",
       "    </tr>\n",
       "  </tbody>\n",
       "</table>\n",
       "</div>"
      ],
      "text/plain": [
       "         step      type     amount     nameOrig  oldbalanceOrg  \\\n",
       "6286324   660  TRANSFER   51725.86   C141049972       51725.86   \n",
       "4527315   326   PAYMENT    6682.99   C580852574       51548.00   \n",
       "6308618   686   PAYMENT   14120.28  C1667141850      266807.56   \n",
       "1057427    96   CASH_IN   56939.48   C822866920       14758.00   \n",
       "1787661   162   PAYMENT    3486.37  C1011540826           0.00   \n",
       "4963835   351   PAYMENT   10408.51  C1882153612       47741.00   \n",
       "3881152   283  CASH_OUT   29608.18  C1376787118      944673.00   \n",
       "1292406   135  CASH_OUT  130929.31    C42668937       51555.00   \n",
       "3852398   283   PAYMENT   10116.13   C763851647           0.00   \n",
       "2315430   188  CASH_OUT  155045.58  C1628777944           0.00   \n",
       "\n",
       "         newbalanceOrig     nameDest  oldbalanceDest  newbalanceDest  isFraud  \\\n",
       "6286324            0.00   C823707248            0.00            0.00        1   \n",
       "4527315        44865.01  M2037757880            0.00            0.00        0   \n",
       "6308618       252687.28  M1337477202            0.00            0.00        0   \n",
       "1057427        71697.48  C1803736914            0.00            0.00        0   \n",
       "1787661            0.00  M1936879813            0.00            0.00        0   \n",
       "4963835        37332.49   M137881797            0.00            0.00        0   \n",
       "3881152       915064.82  C1059635183        15348.05        44956.23        0   \n",
       "1292406            0.00  C1948524909            0.00       130929.31        0   \n",
       "3852398            0.00  M1911919797            0.00            0.00        0   \n",
       "2315430            0.00   C976352450      3161309.71      3180687.04        0   \n",
       "\n",
       "         isFlaggedFraud  \n",
       "6286324               0  \n",
       "4527315               0  \n",
       "6308618               0  \n",
       "1057427               0  \n",
       "1787661               0  \n",
       "4963835               0  \n",
       "3881152               0  \n",
       "1292406               0  \n",
       "3852398               0  \n",
       "2315430               0  "
      ]
     },
     "execution_count": 5,
     "metadata": {},
     "output_type": "execute_result"
    }
   ],
   "source": [
    "fd.sample(10)"
   ]
  },
  {
   "cell_type": "code",
   "execution_count": 6,
   "id": "f4baa532",
   "metadata": {
    "scrolled": false
   },
   "outputs": [
    {
     "name": "stdout",
     "output_type": "stream",
     "text": [
      "<class 'pandas.core.frame.DataFrame'>\n",
      "RangeIndex: 6362620 entries, 0 to 6362619\n",
      "Data columns (total 11 columns):\n",
      " #   Column          Dtype  \n",
      "---  ------          -----  \n",
      " 0   step            int64  \n",
      " 1   type            object \n",
      " 2   amount          float64\n",
      " 3   nameOrig        object \n",
      " 4   oldbalanceOrg   float64\n",
      " 5   newbalanceOrig  float64\n",
      " 6   nameDest        object \n",
      " 7   oldbalanceDest  float64\n",
      " 8   newbalanceDest  float64\n",
      " 9   isFraud         int64  \n",
      " 10  isFlaggedFraud  int64  \n",
      "dtypes: float64(5), int64(3), object(3)\n",
      "memory usage: 534.0+ MB\n"
     ]
    }
   ],
   "source": [
    "fd.info()"
   ]
  },
  {
   "cell_type": "markdown",
   "id": "60740640",
   "metadata": {},
   "source": [
    "#### Amount is getting transffered from A to B"
   ]
  },
  {
   "cell_type": "code",
   "execution_count": 7,
   "id": "c136367f",
   "metadata": {
    "scrolled": true
   },
   "outputs": [],
   "source": [
    "fd.rename(columns={\"oldbalanceOrg\":\"A_old_bal\",\"newbalanceOrig\":\"A_new_bal\",\"newbalanceDest\":\"B_new_bal\",\"oldbalanceDest\":\"B_old_bal\",\"isFraud\":\"Fraud\"},inplace=True)"
   ]
  },
  {
   "cell_type": "code",
   "execution_count": 8,
   "id": "c2d02c8f",
   "metadata": {},
   "outputs": [],
   "source": [
    "fd.rename(columns={\"nameOrig\":\"A\",\"nameDest\":\"B\"},inplace=True)"
   ]
  },
  {
   "cell_type": "code",
   "execution_count": 9,
   "id": "dd1c4550",
   "metadata": {},
   "outputs": [
    {
     "data": {
      "text/html": [
       "<div>\n",
       "<style scoped>\n",
       "    .dataframe tbody tr th:only-of-type {\n",
       "        vertical-align: middle;\n",
       "    }\n",
       "\n",
       "    .dataframe tbody tr th {\n",
       "        vertical-align: top;\n",
       "    }\n",
       "\n",
       "    .dataframe thead th {\n",
       "        text-align: right;\n",
       "    }\n",
       "</style>\n",
       "<table border=\"1\" class=\"dataframe\">\n",
       "  <thead>\n",
       "    <tr style=\"text-align: right;\">\n",
       "      <th></th>\n",
       "      <th>step</th>\n",
       "      <th>type</th>\n",
       "      <th>amount</th>\n",
       "      <th>A</th>\n",
       "      <th>A_old_bal</th>\n",
       "      <th>A_new_bal</th>\n",
       "      <th>B</th>\n",
       "      <th>B_old_bal</th>\n",
       "      <th>B_new_bal</th>\n",
       "      <th>Fraud</th>\n",
       "      <th>isFlaggedFraud</th>\n",
       "    </tr>\n",
       "  </thead>\n",
       "  <tbody>\n",
       "    <tr>\n",
       "      <th>4443844</th>\n",
       "      <td>323</td>\n",
       "      <td>PAYMENT</td>\n",
       "      <td>4494.05</td>\n",
       "      <td>C668269211</td>\n",
       "      <td>186533.59</td>\n",
       "      <td>182039.54</td>\n",
       "      <td>M752560789</td>\n",
       "      <td>0.0</td>\n",
       "      <td>0.0</td>\n",
       "      <td>0</td>\n",
       "      <td>0</td>\n",
       "    </tr>\n",
       "  </tbody>\n",
       "</table>\n",
       "</div>"
      ],
      "text/plain": [
       "         step     type   amount           A  A_old_bal  A_new_bal           B  \\\n",
       "4443844   323  PAYMENT  4494.05  C668269211  186533.59  182039.54  M752560789   \n",
       "\n",
       "         B_old_bal  B_new_bal  Fraud  isFlaggedFraud  \n",
       "4443844        0.0        0.0      0               0  "
      ]
     },
     "execution_count": 9,
     "metadata": {},
     "output_type": "execute_result"
    }
   ],
   "source": [
    "fd.sample()"
   ]
  },
  {
   "cell_type": "code",
   "execution_count": 10,
   "id": "9d427bb7",
   "metadata": {},
   "outputs": [
    {
     "data": {
      "text/plain": [
       "step              0\n",
       "type              0\n",
       "amount            0\n",
       "A                 0\n",
       "A_old_bal         0\n",
       "A_new_bal         0\n",
       "B                 0\n",
       "B_old_bal         0\n",
       "B_new_bal         0\n",
       "Fraud             0\n",
       "isFlaggedFraud    0\n",
       "dtype: int64"
      ]
     },
     "execution_count": 10,
     "metadata": {},
     "output_type": "execute_result"
    }
   ],
   "source": [
    "fd.isnull().sum()"
   ]
  },
  {
   "cell_type": "code",
   "execution_count": 11,
   "id": "a58d2b77",
   "metadata": {},
   "outputs": [
    {
     "data": {
      "text/plain": [
       "0"
      ]
     },
     "execution_count": 11,
     "metadata": {},
     "output_type": "execute_result"
    }
   ],
   "source": [
    "fd.duplicated().sum()"
   ]
  },
  {
   "cell_type": "code",
   "execution_count": 12,
   "id": "7b626529",
   "metadata": {},
   "outputs": [
    {
     "data": {
      "text/plain": [
       "0    6362604\n",
       "1         16\n",
       "Name: isFlaggedFraud, dtype: int64"
      ]
     },
     "execution_count": 12,
     "metadata": {},
     "output_type": "execute_result"
    }
   ],
   "source": [
    "fd[\"isFlaggedFraud\"].value_counts()"
   ]
  },
  {
   "cell_type": "code",
   "execution_count": 13,
   "id": "61e0ce68",
   "metadata": {},
   "outputs": [
    {
     "data": {
      "image/png": "[encoded data removed]",
      "text/plain": [
       "<Figure size 640x480 with 1 Axes>"
      ]
     },
     "metadata": {},
     "output_type": "display_data"
    }
   ],
   "source": [
    "plt.pie(fd[\"isFlaggedFraud\"].value_counts(),autopct=\"%.2f\") \n",
    "plt.show()"
   ]
  },
  {
   "cell_type": "code",
   "execution_count": 14,
   "id": "917c43e4",
   "metadata": {},
   "outputs": [
    {
     "data": {
      "text/plain": [
       "0    6354407\n",
       "1       8213\n",
       "Name: Fraud, dtype: int64"
      ]
     },
     "execution_count": 14,
     "metadata": {},
     "output_type": "execute_result"
    }
   ],
   "source": [
    "fd[\"Fraud\"].value_counts()"
   ]
  },
  {
   "cell_type": "code",
   "execution_count": 15,
   "id": "18f9b72d",
   "metadata": {},
   "outputs": [
    {
     "data": {
      "image/png": "[encoded data removed]",
      "text/plain": [
       "<Figure size 640x480 with 1 Axes>"
      ]
     },
     "metadata": {},
     "output_type": "display_data"
    }
   ],
   "source": [
    "plt.pie(fd[\"Fraud\"].value_counts(),autopct=\"%.2f\") \n",
    "plt.show()"
   ]
  },
  {
   "cell_type": "code",
   "execution_count": 16,
   "id": "c057834b",
   "metadata": {
    "scrolled": true
   },
   "outputs": [
    {
     "data": {
      "text/plain": [
       "array(['PAYMENT', 'TRANSFER', 'CASH_OUT', 'DEBIT', 'CASH_IN'],\n",
       "      dtype=object)"
      ]
     },
     "execution_count": 16,
     "metadata": {},
     "output_type": "execute_result"
    }
   ],
   "source": [
    "fd['type'].unique()"
   ]
  },
  {
   "cell_type": "code",
   "execution_count": 17,
   "id": "7585e86f",
   "metadata": {},
   "outputs": [
    {
     "data": {
      "image/png": "[encoded data removed]",
      "text/plain": [
       "<Figure size 640x480 with 1 Axes>"
      ]
     },
     "metadata": {},
     "output_type": "display_data"
    }
   ],
   "source": [
    "plt.pie(fd[\"type\"].value_counts(),autopct=\"%.2f\",labels=['PAYMENT', 'TRANSFER', 'CASH_OUT', 'DEBIT', 'CASH_IN']) \n",
    "plt.show()"
   ]
  },
  {
   "cell_type": "code",
   "execution_count": 18,
   "id": "2fb723a6",
   "metadata": {},
   "outputs": [],
   "source": [
    "from sklearn.preprocessing import LabelEncoder\n",
    "d=LabelEncoder()"
   ]
  },
  {
   "cell_type": "code",
   "execution_count": 19,
   "id": "08784d72",
   "metadata": {},
   "outputs": [],
   "source": [
    "fd[\"Type\"]=d.fit_transform(fd[\"type\"])"
   ]
  },
  {
   "cell_type": "code",
   "execution_count": 20,
   "id": "a8bb71cc",
   "metadata": {},
   "outputs": [
    {
     "data": {
      "text/html": [
       "<div>\n",
       "<style scoped>\n",
       "    .dataframe tbody tr th:only-of-type {\n",
       "        vertical-align: middle;\n",
       "    }\n",
       "\n",
       "    .dataframe tbody tr th {\n",
       "        vertical-align: top;\n",
       "    }\n",
       "\n",
       "    .dataframe thead th {\n",
       "        text-align: right;\n",
       "    }\n",
       "</style>\n",
       "<table border=\"1\" class=\"dataframe\">\n",
       "  <thead>\n",
       "    <tr style=\"text-align: right;\">\n",
       "      <th></th>\n",
       "      <th>step</th>\n",
       "      <th>type</th>\n",
       "      <th>amount</th>\n",
       "      <th>A</th>\n",
       "      <th>A_old_bal</th>\n",
       "      <th>A_new_bal</th>\n",
       "      <th>B</th>\n",
       "      <th>B_old_bal</th>\n",
       "      <th>B_new_bal</th>\n",
       "      <th>Fraud</th>\n",
       "      <th>isFlaggedFraud</th>\n",
       "      <th>Type</th>\n",
       "    </tr>\n",
       "  </thead>\n",
       "  <tbody>\n",
       "    <tr>\n",
       "      <th>0</th>\n",
       "      <td>1</td>\n",
       "      <td>PAYMENT</td>\n",
       "      <td>9839.64</td>\n",
       "      <td>C1231006815</td>\n",
       "      <td>170136.0</td>\n",
       "      <td>160296.36</td>\n",
       "      <td>M1979787155</td>\n",
       "      <td>0.0</td>\n",
       "      <td>0.0</td>\n",
       "      <td>0</td>\n",
       "      <td>0</td>\n",
       "      <td>3</td>\n",
       "    </tr>\n",
       "    <tr>\n",
       "      <th>1</th>\n",
       "      <td>1</td>\n",
       "      <td>PAYMENT</td>\n",
       "      <td>1864.28</td>\n",
       "      <td>C1666544295</td>\n",
       "      <td>21249.0</td>\n",
       "      <td>19384.72</td>\n",
       "      <td>M2044282225</td>\n",
       "      <td>0.0</td>\n",
       "      <td>0.0</td>\n",
       "      <td>0</td>\n",
       "      <td>0</td>\n",
       "      <td>3</td>\n",
       "    </tr>\n",
       "    <tr>\n",
       "      <th>2</th>\n",
       "      <td>1</td>\n",
       "      <td>TRANSFER</td>\n",
       "      <td>181.00</td>\n",
       "      <td>C1305486145</td>\n",
       "      <td>181.0</td>\n",
       "      <td>0.00</td>\n",
       "      <td>C553264065</td>\n",
       "      <td>0.0</td>\n",
       "      <td>0.0</td>\n",
       "      <td>1</td>\n",
       "      <td>0</td>\n",
       "      <td>4</td>\n",
       "    </tr>\n",
       "    <tr>\n",
       "      <th>3</th>\n",
       "      <td>1</td>\n",
       "      <td>CASH_OUT</td>\n",
       "      <td>181.00</td>\n",
       "      <td>C840083671</td>\n",
       "      <td>181.0</td>\n",
       "      <td>0.00</td>\n",
       "      <td>C38997010</td>\n",
       "      <td>21182.0</td>\n",
       "      <td>0.0</td>\n",
       "      <td>1</td>\n",
       "      <td>0</td>\n",
       "      <td>1</td>\n",
       "    </tr>\n",
       "    <tr>\n",
       "      <th>4</th>\n",
       "      <td>1</td>\n",
       "      <td>PAYMENT</td>\n",
       "      <td>11668.14</td>\n",
       "      <td>C2048537720</td>\n",
       "      <td>41554.0</td>\n",
       "      <td>29885.86</td>\n",
       "      <td>M1230701703</td>\n",
       "      <td>0.0</td>\n",
       "      <td>0.0</td>\n",
       "      <td>0</td>\n",
       "      <td>0</td>\n",
       "      <td>3</td>\n",
       "    </tr>\n",
       "  </tbody>\n",
       "</table>\n",
       "</div>"
      ],
      "text/plain": [
       "   step      type    amount            A  A_old_bal  A_new_bal            B  \\\n",
       "0     1   PAYMENT   9839.64  C1231006815   170136.0  160296.36  M1979787155   \n",
       "1     1   PAYMENT   1864.28  C1666544295    21249.0   19384.72  M2044282225   \n",
       "2     1  TRANSFER    181.00  C1305486145      181.0       0.00   C553264065   \n",
       "3     1  CASH_OUT    181.00   C840083671      181.0       0.00    C38997010   \n",
       "4     1   PAYMENT  11668.14  C2048537720    41554.0   29885.86  M1230701703   \n",
       "\n",
       "   B_old_bal  B_new_bal  Fraud  isFlaggedFraud  Type  \n",
       "0        0.0        0.0      0               0     3  \n",
       "1        0.0        0.0      0               0     3  \n",
       "2        0.0        0.0      1               0     4  \n",
       "3    21182.0        0.0      1               0     1  \n",
       "4        0.0        0.0      0               0     3  "
      ]
     },
     "execution_count": 20,
     "metadata": {},
     "output_type": "execute_result"
    }
   ],
   "source": [
    "fd.head()"
   ]
  },
  {
   "cell_type": "code",
   "execution_count": 21,
   "id": "b9de22d2",
   "metadata": {
    "scrolled": true
   },
   "outputs": [
    {
     "data": {
      "text/plain": [
       "Index(['step', 'type', 'amount', 'A', 'A_old_bal', 'A_new_bal', 'B',\n",
       "       'B_old_bal', 'B_new_bal', 'Fraud', 'isFlaggedFraud', 'Type'],\n",
       "      dtype='object')"
      ]
     },
     "execution_count": 21,
     "metadata": {},
     "output_type": "execute_result"
    }
   ],
   "source": [
    "fd.columns"
   ]
  },
  {
   "cell_type": "markdown",
   "id": "fd19acbb",
   "metadata": {},
   "source": [
    "#### Removing outliers"
   ]
  },
  {
   "cell_type": "code",
   "execution_count": 22,
   "id": "a70e60fc",
   "metadata": {},
   "outputs": [],
   "source": [
    "def remove_outliers_iqr(df, exclude_columns):\n",
    "    # Initialize a DataFrame to store the filtered data\n",
    "    df_clean = df.copy()\n",
    "    \n",
    "    # Iterate through each column in the DataFrame\n",
    "    for column in df.columns:\n",
    "        if column not in exclude_columns and pd.api.types.is_numeric_dtype(df[column]):\n",
    "            # Calculate Q1 (25th percentile) and Q3 (75th percentile)\n",
    "            Q1 = df[column].quantile(0.25)\n",
    "            Q3 = df[column].quantile(0.75)\n",
    "            IQR = Q3 - Q1\n",
    "            \n",
    "            # Define lower and upper bounds for outliers\n",
    "            lower_bound = Q1 - 1.5 * IQR\n",
    "            upper_bound = Q3 + 1.5 * IQR\n",
    "            \n",
    "            # Filter out the outliers\n",
    "            df_clean = df_clean[(df_clean[column] >= lower_bound) & (df_clean[column] <= upper_bound)]\n",
    "    \n",
    "    return df_clean"
   ]
  },
  {
   "cell_type": "code",
   "execution_count": 23,
   "id": "aef873b3",
   "metadata": {},
   "outputs": [],
   "source": [
    "exclude_columns = fd[['Fraud', 'isFlaggedFraud']]\n",
    "cfd= remove_outliers_iqr(fd, exclude_columns)"
   ]
  },
  {
   "cell_type": "code",
   "execution_count": 26,
   "id": "68d68243",
   "metadata": {},
   "outputs": [
    {
     "name": "stdout",
     "output_type": "stream",
     "text": [
      "Original data shape: (6362620, 12)\n",
      "Cleaned data shape: (4321893, 12)\n"
     ]
    }
   ],
   "source": [
    "print(\"Original data shape:\", fd.shape)\n",
    "print(\"Cleaned data shape:\", cfd.shape)"
   ]
  },
  {
   "cell_type": "code",
   "execution_count": 27,
   "id": "fa1bfc3e",
   "metadata": {
    "scrolled": false
   },
   "outputs": [
    {
     "data": {
      "image/png": "[encoded data removed]",
      "text/plain": [
       "<Figure size 1000x300 with 2 Axes>"
      ]
     },
     "metadata": {},
     "output_type": "display_data"
    }
   ],
   "source": [
    "plt.figure(figsize=(10,3))\n",
    "plt.subplot(1, 2, 1)\n",
    "sns.boxplot(x=fd['step'])\n",
    "plt.title('Box Plot of Step Before removing outliers')\n",
    "plt.subplot(1, 2, 2)\n",
    "sns.boxplot(x=cfd['step'])\n",
    "plt.title('Box Plot of Step after removing outliers')\n",
    "plt.tight_layout()\n",
    "plt.show()"
   ]
  },
  {
   "cell_type": "code",
   "execution_count": 28,
   "id": "6e1db165",
   "metadata": {},
   "outputs": [
    {
     "data": {
      "image/png": "[encoded data removed]",
      "text/plain": [
       "<Figure size 1000x300 with 2 Axes>"
      ]
     },
     "metadata": {},
     "output_type": "display_data"
    }
   ],
   "source": [
    "plt.figure(figsize=(10,3))\n",
    "plt.subplot(1, 2, 1)\n",
    "sns.boxplot(x=fd['amount'])\n",
    "plt.title('Box Plot of amount Before removing outliers')\n",
    "plt.subplot(1, 2, 2)\n",
    "sns.boxplot(x=cfd['amount'])\n",
    "plt.title('Box Plot of amount after removing outliers')\n",
    "plt.tight_layout()\n",
    "plt.show()"
   ]
  },
  {
   "cell_type": "code",
   "execution_count": 29,
   "id": "47d3e314",
   "metadata": {
    "scrolled": true
   },
   "outputs": [
    {
     "data": {
      "image/png": "[encoded data removed]",
      "text/plain": [
       "<Figure size 1000x300 with 2 Axes>"
      ]
     },
     "metadata": {},
     "output_type": "display_data"
    }
   ],
   "source": [
    "plt.figure(figsize=(10,3))\n",
    "plt.subplot(1, 2, 1)\n",
    "sns.boxplot(x=fd['A_old_bal'])\n",
    "plt.title('Box Plot of A_old_bal Before removing outliers')\n",
    "plt.subplot(1, 2, 2)\n",
    "sns.boxplot(x=cfd['A_old_bal'])\n",
    "plt.title('Box Plot of A_old_bal after removing outliers')\n",
    "plt.tight_layout()\n",
    "plt.show()"
   ]
  },
  {
   "cell_type": "code",
   "execution_count": 30,
   "id": "06b0e94c",
   "metadata": {},
   "outputs": [
    {
     "data": {
      "image/png": "[encoded data removed]",
      "text/plain": [
       "<Figure size 1000x300 with 2 Axes>"
      ]
     },
     "metadata": {},
     "output_type": "display_data"
    }
   ],
   "source": [
    "plt.figure(figsize=(10,3))\n",
    "plt.subplot(1, 2, 1)\n",
    "sns.boxplot(x=fd['A_new_bal'])\n",
    "plt.title('Box Plot of A_new_bal Before removing outliers')\n",
    "plt.subplot(1, 2, 2)\n",
    "sns.boxplot(x=cfd['A_new_bal'])\n",
    "plt.title('Box Plot of A_new_bal after removing outliers')\n",
    "plt.tight_layout()\n",
    "plt.show()"
   ]
  },
  {
   "cell_type": "code",
   "execution_count": 31,
   "id": "13528e9f",
   "metadata": {},
   "outputs": [
    {
     "data": {
      "image/png": "[encoded data removed]",
      "text/plain": [
       "<Figure size 1000x300 with 2 Axes>"
      ]
     },
     "metadata": {},
     "output_type": "display_data"
    }
   ],
   "source": [
    "plt.figure(figsize=(10,3))\n",
    "plt.subplot(1, 2, 1)\n",
    "sns.boxplot(x=fd['B_old_bal'])\n",
    "plt.title('Box Plot of oldbalanB_old_balceDest Before removing outliers')\n",
    "plt.subplot(1, 2, 2)\n",
    "sns.boxplot(x=cfd['B_old_bal'])\n",
    "plt.title('Box Plot of B_old_bal after removing outliers')\n",
    "plt.tight_layout()\n",
    "plt.show()"
   ]
  },
  {
   "cell_type": "code",
   "execution_count": 32,
   "id": "8601d47c",
   "metadata": {},
   "outputs": [
    {
     "data": {
      "image/png": "[encoded data removed]",
      "text/plain": [
       "<Figure size 1000x300 with 2 Axes>"
      ]
     },
     "metadata": {},
     "output_type": "display_data"
    }
   ],
   "source": [
    "plt.figure(figsize=(10,3))\n",
    "plt.subplot(1, 2, 1)\n",
    "sns.boxplot(x=fd['B_new_bal'])\n",
    "plt.title('Box Plot of B_new_bal Before removing outliers')\n",
    "plt.subplot(1, 2, 2)\n",
    "sns.boxplot(x=cfd['B_new_bal'])\n",
    "plt.title('Box Plot of B_new_bal after removing outliers')\n",
    "plt.tight_layout()\n",
    "plt.show()"
   ]
  },
  {
   "cell_type": "code",
   "execution_count": 33,
   "id": "2b5cd0ee",
   "metadata": {
    "scrolled": true
   },
   "outputs": [
    {
     "name": "stderr",
     "output_type": "stream",
     "text": [
      "C:\\Users\\DELL\\AppData\\Local\\Temp\\ipykernel_5776\\1708637983.py:2: FutureWarning: The default value of numeric_only in DataFrame.corr is deprecated. In a future version, it will default to False. Select only valid columns or specify the value of numeric_only to silence this warning.\n",
      "  sns.heatmap(data=cfd.corr(),annot=True)\n"
     ]
    },
    {
     "data": {
      "text/plain": [
       "<Axes: >"
      ]
     },
     "execution_count": 33,
     "metadata": {},
     "output_type": "execute_result"
    },
    {
     "data": {
      "image/png": "[encoded data removed]",
      "text/plain": [
       "<Figure size 1500x500 with 2 Axes>"
      ]
     },
     "metadata": {},
     "output_type": "display_data"
    }
   ],
   "source": [
    "plt.figure(figsize=(15,5))\n",
    "sns.heatmap(data=cfd.corr(),annot=True)"
   ]
  },
  {
   "cell_type": "markdown",
   "id": "21601789",
   "metadata": {},
   "source": [
    "#### By correlation we found out the features that are important for our classification model the type, old balance of A, new balance B,amount are the important features.  "
   ]
  },
  {
   "cell_type": "markdown",
   "id": "2ddd0827",
   "metadata": {},
   "source": [
    "## Model Building"
   ]
  },
  {
   "cell_type": "code",
   "execution_count": 34,
   "id": "7becba2e",
   "metadata": {
    "scrolled": true
   },
   "outputs": [],
   "source": [
    "x=cfd[[\"A_old_bal\",\"A_new_bal\",\"Type\",\"amount\"]]"
   ]
  },
  {
   "cell_type": "code",
   "execution_count": 42,
   "id": "9a8d55f8",
   "metadata": {},
   "outputs": [],
   "source": [
    "y=cfd.iloc[:,-3]"
   ]
  },
  {
   "cell_type": "code",
   "execution_count": 43,
   "id": "abdc6188",
   "metadata": {
    "scrolled": false
   },
   "outputs": [
    {
     "data": {
      "text/plain": [
       "0          0\n",
       "1          0\n",
       "2          1\n",
       "3          1\n",
       "4          0\n",
       "          ..\n",
       "6259911    0\n",
       "6259916    1\n",
       "6259924    1\n",
       "6259930    1\n",
       "6259931    1\n",
       "Name: Fraud, Length: 4321893, dtype: int64"
      ]
     },
     "execution_count": 43,
     "metadata": {},
     "output_type": "execute_result"
    }
   ],
   "source": [
    "y"
   ]
  },
  {
   "cell_type": "code",
   "execution_count": 44,
   "id": "9f99fbfe",
   "metadata": {
    "scrolled": true
   },
   "outputs": [
    {
     "data": {
      "text/plain": [
       "((4321893, 4), (4321893,))"
      ]
     },
     "execution_count": 44,
     "metadata": {},
     "output_type": "execute_result"
    }
   ],
   "source": [
    "x.shape,y.shape"
   ]
  },
  {
   "cell_type": "markdown",
   "id": "77011ccb",
   "metadata": {},
   "source": [
    "### Balancing the data \n",
    "As we know the data was imbalanced"
   ]
  },
  {
   "cell_type": "code",
   "execution_count": 45,
   "id": "0f681f16",
   "metadata": {},
   "outputs": [],
   "source": [
    "from imblearn.under_sampling import NearMiss"
   ]
  },
  {
   "cell_type": "code",
   "execution_count": 46,
   "id": "3548af38",
   "metadata": {},
   "outputs": [],
   "source": [
    "nm=NearMiss()"
   ]
  },
  {
   "cell_type": "code",
   "execution_count": 47,
   "id": "b4859d16",
   "metadata": {},
   "outputs": [],
   "source": [
    "nm.random_state=42"
   ]
  },
  {
   "cell_type": "code",
   "execution_count": 48,
   "id": "e7783b44",
   "metadata": {},
   "outputs": [],
   "source": [
    "x_res,y_res=nm.fit_resample(x,y)"
   ]
  },
  {
   "cell_type": "code",
   "execution_count": 49,
   "id": "c704d637",
   "metadata": {},
   "outputs": [
    {
     "data": {
      "text/plain": [
       "((4974, 4), (4974,))"
      ]
     },
     "execution_count": 49,
     "metadata": {},
     "output_type": "execute_result"
    }
   ],
   "source": [
    "x_res.shape,y_res.shape"
   ]
  },
  {
   "cell_type": "markdown",
   "id": "8a8926eb",
   "metadata": {},
   "source": [
    "### Model Selection "
   ]
  },
  {
   "cell_type": "code",
   "execution_count": 51,
   "id": "7b50a4ba",
   "metadata": {},
   "outputs": [],
   "source": [
    "from sklearn.tree import DecisionTreeClassifier\n",
    "from sklearn.linear_model import LogisticRegression\n",
    "from sklearn.naive_bayes import MultinomialNB\n",
    "from sklearn.neighbors import KNeighborsClassifier\n",
    "from sklearn.ensemble import RandomForestClassifier\n",
    "from sklearn.naive_bayes import GaussianNB,BernoulliNB"
   ]
  },
  {
   "cell_type": "code",
   "execution_count": 52,
   "id": "204a3d6c",
   "metadata": {},
   "outputs": [],
   "source": [
    "from sklearn.model_selection import train_test_split\n",
    "from sklearn.metrics import accuracy_score,confusion_matrix,precision_score"
   ]
  },
  {
   "cell_type": "code",
   "execution_count": 53,
   "id": "6e85c0ba",
   "metadata": {},
   "outputs": [],
   "source": [
    "X_train,X_test,Y_train,Y_test = train_test_split(x_res,y_res,test_size=0.2,random_state=42)"
   ]
  },
  {
   "cell_type": "code",
   "execution_count": 56,
   "id": "4565f883",
   "metadata": {},
   "outputs": [],
   "source": [
    "knn=KNeighborsClassifier()\n",
    "lr=LogisticRegression()\n",
    "rfc=RandomForestClassifier()\n",
    "gnb=GaussianNB()\n",
    "mnb= MultinomialNB()\n",
    "bnb=BernoulliNB()\n",
    "dt=DecisionTreeClassifier()"
   ]
  },
  {
   "cell_type": "code",
   "execution_count": 57,
   "id": "dd1954d5",
   "metadata": {},
   "outputs": [],
   "source": [
    "models=[knn,lr,rfc,dt,mnb,gnb,bnb]"
   ]
  },
  {
   "cell_type": "code",
   "execution_count": 60,
   "id": "af633df5",
   "metadata": {},
   "outputs": [],
   "source": [
    "def compare_models_train_test(list):\n",
    "    for k in list:\n",
    "        k.fit(X_train,Y_train)\n",
    "        y_pred= k.predict(X_test)\n",
    "        ac=accuracy_score(Y_test,y_pred)\n",
    "        cm=confusion_matrix(Y_test,y_pred)\n",
    "        pc= precision_score(Y_test, y_pred)\n",
    "        print(\"Score of {} :\\nac={}\\ncm={}\\npc={}\".format(k,ac,cm,pc))  "
   ]
  },
  {
   "cell_type": "code",
   "execution_count": 61,
   "id": "80d3e48e",
   "metadata": {},
   "outputs": [
    {
     "name": "stdout",
     "output_type": "stream",
     "text": [
      "Score of KNeighborsClassifier() :\n",
      "ac=0.9487437185929648\n",
      "cm=[[487  25]\n",
      " [ 26 457]]\n",
      "pc=0.9481327800829875\n",
      "Score of LogisticRegression() :\n",
      "ac=0.9527638190954774\n",
      "cm=[[500  12]\n",
      " [ 35 448]]\n",
      "pc=0.9739130434782609\n",
      "Score of RandomForestClassifier() :\n",
      "ac=0.9919597989949749\n",
      "cm=[[506   6]\n",
      " [  2 481]]\n",
      "pc=0.9876796714579056\n",
      "Score of DecisionTreeClassifier() :\n",
      "ac=0.9889447236180905\n",
      "cm=[[505   7]\n",
      " [  4 479]]\n",
      "pc=0.98559670781893\n",
      "Score of MultinomialNB() :\n",
      "ac=0.9567839195979899\n",
      "cm=[[483  29]\n",
      " [ 14 469]]\n",
      "pc=0.9417670682730924\n",
      "Score of GaussianNB() :\n",
      "ac=0.9376884422110553\n",
      "cm=[[500  12]\n",
      " [ 50 433]]\n",
      "pc=0.9730337078651685\n",
      "Score of BernoulliNB() :\n",
      "ac=0.9195979899497487\n",
      "cm=[[436  76]\n",
      " [  4 479]]\n",
      "pc=0.863063063063063\n"
     ]
    }
   ],
   "source": [
    "compare_models_train_test(models)"
   ]
  },
  {
   "cell_type": "markdown",
   "id": "7534b7a9",
   "metadata": {},
   "source": [
    "### Thus we will use Random Forest Classifier"
   ]
  },
  {
   "cell_type": "markdown",
   "id": "42029561",
   "metadata": {},
   "source": [
    "### Selection of best Hyperparameters using randomized Search CV"
   ]
  },
  {
   "cell_type": "code",
   "execution_count": 73,
   "id": "13129b02",
   "metadata": {},
   "outputs": [],
   "source": [
    "parameters={'n_estimators': [25, 50, 100, 150], \n",
    "    'max_features': ['sqrt', 'log2', None], \n",
    "    'max_depth': [3, 6, 9], \n",
    "    'max_leaf_nodes': [3, 6, 9]}"
   ]
  },
  {
   "cell_type": "code",
   "execution_count": 74,
   "id": "1ec79a1c",
   "metadata": {},
   "outputs": [],
   "source": [
    "from sklearn.model_selection import RandomizedSearchCV"
   ]
  },
  {
   "cell_type": "code",
   "execution_count": 75,
   "id": "f191ffb6",
   "metadata": {},
   "outputs": [],
   "source": [
    "classifier=RandomizedSearchCV(rfc, parameters,cv=5)"
   ]
  },
  {
   "cell_type": "code",
   "execution_count": 76,
   "id": "f0215465",
   "metadata": {
    "scrolled": true
   },
   "outputs": [
    {
     "data": {
      "text/html": [
       "<style>#sk-container-id-2 {color: black;background-color: white;}#sk-container-id-2 pre{padding: 0;}#sk-container-id-2 div.sk-toggleable {background-color: white;}#sk-container-id-2 label.sk-toggleable__label {cursor: pointer;display: block;width: 100%;margin-bottom: 0;padding: 0.3em;box-sizing: border-box;text-align: center;}#sk-container-id-2 label.sk-toggleable__label-arrow:before {content: \"▸\";float: left;margin-right: 0.25em;color: #696969;}#sk-container-id-2 label.sk-toggleable__label-arrow:hover:before {color: black;}#sk-container-id-2 div.sk-estimator:hover label.sk-toggleable__label-arrow:before {color: black;}#sk-container-id-2 div.sk-toggleable__content {max-height: 0;max-width: 0;overflow: hidden;text-align: left;background-color: #f0f8ff;}#sk-container-id-2 div.sk-toggleable__content pre {margin: 0.2em;color: black;border-radius: 0.25em;background-color: #f0f8ff;}#sk-container-id-2 input.sk-toggleable__control:checked~div.sk-toggleable__content {max-height: 200px;max-width: 100%;overflow: auto;}#sk-container-id-2 input.sk-toggleable__control:checked~label.sk-toggleable__label-arrow:before {content: \"▾\";}#sk-container-id-2 div.sk-estimator input.sk-toggleable__control:checked~label.sk-toggleable__label {background-color: #d4ebff;}#sk-container-id-2 div.sk-label input.sk-toggleable__control:checked~label.sk-toggleable__label {background-color: #d4ebff;}#sk-container-id-2 input.sk-hidden--visually {border: 0;clip: rect(1px 1px 1px 1px);clip: rect(1px, 1px, 1px, 1px);height: 1px;margin: -1px;overflow: hidden;padding: 0;position: absolute;width: 1px;}#sk-container-id-2 div.sk-estimator {font-family: monospace;background-color: #f0f8ff;border: 1px dotted black;border-radius: 0.25em;box-sizing: border-box;margin-bottom: 0.5em;}#sk-container-id-2 div.sk-estimator:hover {background-color: #d4ebff;}#sk-container-id-2 div.sk-parallel-item::after {content: \"\";width: 100%;border-bottom: 1px solid gray;flex-grow: 1;}#sk-container-id-2 div.sk-label:hover label.sk-toggleable__label {background-color: #d4ebff;}#sk-container-id-2 div.sk-serial::before {content: \"\";position: absolute;border-left: 1px solid gray;box-sizing: border-box;top: 0;bottom: 0;left: 50%;z-index: 0;}#sk-container-id-2 div.sk-serial {display: flex;flex-direction: column;align-items: center;background-color: white;padding-right: 0.2em;padding-left: 0.2em;position: relative;}#sk-container-id-2 div.sk-item {position: relative;z-index: 1;}#sk-container-id-2 div.sk-parallel {display: flex;align-items: stretch;justify-content: center;background-color: white;position: relative;}#sk-container-id-2 div.sk-item::before, #sk-container-id-2 div.sk-parallel-item::before {content: \"\";position: absolute;border-left: 1px solid gray;box-sizing: border-box;top: 0;bottom: 0;left: 50%;z-index: -1;}#sk-container-id-2 div.sk-parallel-item {display: flex;flex-direction: column;z-index: 1;position: relative;background-color: white;}#sk-container-id-2 div.sk-parallel-item:first-child::after {align-self: flex-end;width: 50%;}#sk-container-id-2 div.sk-parallel-item:last-child::after {align-self: flex-start;width: 50%;}#sk-container-id-2 div.sk-parallel-item:only-child::after {width: 0;}#sk-container-id-2 div.sk-dashed-wrapped {border: 1px dashed gray;margin: 0 0.4em 0.5em 0.4em;box-sizing: border-box;padding-bottom: 0.4em;background-color: white;}#sk-container-id-2 div.sk-label label {font-family: monospace;font-weight: bold;display: inline-block;line-height: 1.2em;}#sk-container-id-2 div.sk-label-container {text-align: center;}#sk-container-id-2 div.sk-container {/* jupyter's `normalize.less` sets `[hidden] { display: none; }` but bootstrap.min.css set `[hidden] { display: none !important; }` so we also need the `!important` here to be able to override the default hidden behavior on the sphinx rendered scikit-learn.org. See: https://github.com/scikit-learn/scikit-learn/issues/21755 */display: inline-block !important;position: relative;}#sk-container-id-2 div.sk-text-repr-fallback {display: none;}</style><div id=\"sk-container-id-2\" class=\"sk-top-container\"><div class=\"sk-text-repr-fallback\"><pre>RandomizedSearchCV(cv=5, estimator=RandomForestClassifier(),\n",
       "                   param_distributions={&#x27;max_depth&#x27;: [3, 6, 9],\n",
       "                                        &#x27;max_features&#x27;: [&#x27;sqrt&#x27;, &#x27;log2&#x27;, None],\n",
       "                                        &#x27;max_leaf_nodes&#x27;: [3, 6, 9],\n",
       "                                        &#x27;n_estimators&#x27;: [25, 50, 100, 150]})</pre><b>In a Jupyter environment, please rerun this cell to show the HTML representation or trust the notebook. <br />On GitHub, the HTML representation is unable to render, please try loading this page with nbviewer.org.</b></div><div class=\"sk-container\" hidden><div class=\"sk-item sk-dashed-wrapped\"><div class=\"sk-label-container\"><div class=\"sk-label sk-toggleable\"><input class=\"sk-toggleable__control sk-hidden--visually\" id=\"sk-estimator-id-4\" type=\"checkbox\" ><label for=\"sk-estimator-id-4\" class=\"sk-toggleable__label sk-toggleable__label-arrow\">RandomizedSearchCV</label><div class=\"sk-toggleable__content\"><pre>RandomizedSearchCV(cv=5, estimator=RandomForestClassifier(),\n",
       "                   param_distributions={&#x27;max_depth&#x27;: [3, 6, 9],\n",
       "                                        &#x27;max_features&#x27;: [&#x27;sqrt&#x27;, &#x27;log2&#x27;, None],\n",
       "                                        &#x27;max_leaf_nodes&#x27;: [3, 6, 9],\n",
       "                                        &#x27;n_estimators&#x27;: [25, 50, 100, 150]})</pre></div></div></div><div class=\"sk-parallel\"><div class=\"sk-parallel-item\"><div class=\"sk-item\"><div class=\"sk-label-container\"><div class=\"sk-label sk-toggleable\"><input class=\"sk-toggleable__control sk-hidden--visually\" id=\"sk-estimator-id-5\" type=\"checkbox\" ><label for=\"sk-estimator-id-5\" class=\"sk-toggleable__label sk-toggleable__label-arrow\">estimator: RandomForestClassifier</label><div class=\"sk-toggleable__content\"><pre>RandomForestClassifier()</pre></div></div></div><div class=\"sk-serial\"><div class=\"sk-item\"><div class=\"sk-estimator sk-toggleable\"><input class=\"sk-toggleable__control sk-hidden--visually\" id=\"sk-estimator-id-6\" type=\"checkbox\" ><label for=\"sk-estimator-id-6\" class=\"sk-toggleable__label sk-toggleable__label-arrow\">RandomForestClassifier</label><div class=\"sk-toggleable__content\"><pre>RandomForestClassifier()</pre></div></div></div></div></div></div></div></div></div></div>"
      ],
      "text/plain": [
       "RandomizedSearchCV(cv=5, estimator=RandomForestClassifier(),\n",
       "                   param_distributions={'max_depth': [3, 6, 9],\n",
       "                                        'max_features': ['sqrt', 'log2', None],\n",
       "                                        'max_leaf_nodes': [3, 6, 9],\n",
       "                                        'n_estimators': [25, 50, 100, 150]})"
      ]
     },
     "execution_count": 76,
     "metadata": {},
     "output_type": "execute_result"
    }
   ],
   "source": [
    "classifier.fit(x_res,y_res)"
   ]
  },
  {
   "cell_type": "code",
   "execution_count": 77,
   "id": "090eef97",
   "metadata": {},
   "outputs": [
    {
     "data": {
      "text/html": [
       "<div>\n",
       "<style scoped>\n",
       "    .dataframe tbody tr th:only-of-type {\n",
       "        vertical-align: middle;\n",
       "    }\n",
       "\n",
       "    .dataframe tbody tr th {\n",
       "        vertical-align: top;\n",
       "    }\n",
       "\n",
       "    .dataframe thead th {\n",
       "        text-align: right;\n",
       "    }\n",
       "</style>\n",
       "<table border=\"1\" class=\"dataframe\">\n",
       "  <thead>\n",
       "    <tr style=\"text-align: right;\">\n",
       "      <th></th>\n",
       "      <th>mean_fit_time</th>\n",
       "      <th>std_fit_time</th>\n",
       "      <th>mean_score_time</th>\n",
       "      <th>std_score_time</th>\n",
       "      <th>param_n_estimators</th>\n",
       "      <th>param_max_leaf_nodes</th>\n",
       "      <th>param_max_features</th>\n",
       "      <th>param_max_depth</th>\n",
       "      <th>params</th>\n",
       "      <th>split0_test_score</th>\n",
       "      <th>split1_test_score</th>\n",
       "      <th>split2_test_score</th>\n",
       "      <th>split3_test_score</th>\n",
       "      <th>split4_test_score</th>\n",
       "      <th>mean_test_score</th>\n",
       "      <th>std_test_score</th>\n",
       "      <th>rank_test_score</th>\n",
       "    </tr>\n",
       "  </thead>\n",
       "  <tbody>\n",
       "    <tr>\n",
       "      <th>0</th>\n",
       "      <td>0.698944</td>\n",
       "      <td>0.204132</td>\n",
       "      <td>0.009375</td>\n",
       "      <td>7.655006e-03</td>\n",
       "      <td>50</td>\n",
       "      <td>3</td>\n",
       "      <td>None</td>\n",
       "      <td>3</td>\n",
       "      <td>{'n_estimators': 50, 'max_leaf_nodes': 3, 'max...</td>\n",
       "      <td>0.961809</td>\n",
       "      <td>0.974874</td>\n",
       "      <td>0.951759</td>\n",
       "      <td>0.948744</td>\n",
       "      <td>0.924547</td>\n",
       "      <td>0.952347</td>\n",
       "      <td>0.016632</td>\n",
       "      <td>8</td>\n",
       "    </tr>\n",
       "    <tr>\n",
       "      <th>1</th>\n",
       "      <td>0.303458</td>\n",
       "      <td>0.149749</td>\n",
       "      <td>0.015977</td>\n",
       "      <td>1.700903e-02</td>\n",
       "      <td>25</td>\n",
       "      <td>3</td>\n",
       "      <td>log2</td>\n",
       "      <td>6</td>\n",
       "      <td>{'n_estimators': 25, 'max_leaf_nodes': 3, 'max...</td>\n",
       "      <td>0.950754</td>\n",
       "      <td>0.975879</td>\n",
       "      <td>0.947739</td>\n",
       "      <td>0.948744</td>\n",
       "      <td>0.924547</td>\n",
       "      <td>0.949533</td>\n",
       "      <td>0.016271</td>\n",
       "      <td>10</td>\n",
       "    </tr>\n",
       "    <tr>\n",
       "      <th>2</th>\n",
       "      <td>0.169571</td>\n",
       "      <td>0.085012</td>\n",
       "      <td>0.012505</td>\n",
       "      <td>6.252468e-03</td>\n",
       "      <td>25</td>\n",
       "      <td>9</td>\n",
       "      <td>sqrt</td>\n",
       "      <td>3</td>\n",
       "      <td>{'n_estimators': 25, 'max_leaf_nodes': 9, 'max...</td>\n",
       "      <td>0.951759</td>\n",
       "      <td>0.981910</td>\n",
       "      <td>0.958794</td>\n",
       "      <td>0.950754</td>\n",
       "      <td>0.931590</td>\n",
       "      <td>0.954961</td>\n",
       "      <td>0.016218</td>\n",
       "      <td>6</td>\n",
       "    </tr>\n",
       "    <tr>\n",
       "      <th>3</th>\n",
       "      <td>0.408682</td>\n",
       "      <td>0.020843</td>\n",
       "      <td>0.015622</td>\n",
       "      <td>7.747687e-07</td>\n",
       "      <td>50</td>\n",
       "      <td>6</td>\n",
       "      <td>None</td>\n",
       "      <td>6</td>\n",
       "      <td>{'n_estimators': 50, 'max_leaf_nodes': 6, 'max...</td>\n",
       "      <td>0.989950</td>\n",
       "      <td>0.985930</td>\n",
       "      <td>0.972864</td>\n",
       "      <td>0.987940</td>\n",
       "      <td>0.970825</td>\n",
       "      <td>0.981502</td>\n",
       "      <td>0.008013</td>\n",
       "      <td>3</td>\n",
       "    </tr>\n",
       "    <tr>\n",
       "      <th>4</th>\n",
       "      <td>0.131220</td>\n",
       "      <td>0.007654</td>\n",
       "      <td>0.006248</td>\n",
       "      <td>7.652378e-03</td>\n",
       "      <td>25</td>\n",
       "      <td>9</td>\n",
       "      <td>sqrt</td>\n",
       "      <td>9</td>\n",
       "      <td>{'n_estimators': 25, 'max_leaf_nodes': 9, 'max...</td>\n",
       "      <td>0.990955</td>\n",
       "      <td>0.992965</td>\n",
       "      <td>0.983920</td>\n",
       "      <td>0.989950</td>\n",
       "      <td>0.977867</td>\n",
       "      <td>0.987131</td>\n",
       "      <td>0.005527</td>\n",
       "      <td>1</td>\n",
       "    </tr>\n",
       "    <tr>\n",
       "      <th>5</th>\n",
       "      <td>0.860406</td>\n",
       "      <td>1.058544</td>\n",
       "      <td>0.044898</td>\n",
       "      <td>6.737320e-02</td>\n",
       "      <td>50</td>\n",
       "      <td>3</td>\n",
       "      <td>sqrt</td>\n",
       "      <td>6</td>\n",
       "      <td>{'n_estimators': 50, 'max_leaf_nodes': 3, 'max...</td>\n",
       "      <td>0.956784</td>\n",
       "      <td>0.976884</td>\n",
       "      <td>0.949749</td>\n",
       "      <td>0.946734</td>\n",
       "      <td>0.923541</td>\n",
       "      <td>0.950738</td>\n",
       "      <td>0.017186</td>\n",
       "      <td>9</td>\n",
       "    </tr>\n",
       "    <tr>\n",
       "      <th>6</th>\n",
       "      <td>6.833428</td>\n",
       "      <td>1.658851</td>\n",
       "      <td>0.570777</td>\n",
       "      <td>4.276782e-01</td>\n",
       "      <td>100</td>\n",
       "      <td>3</td>\n",
       "      <td>None</td>\n",
       "      <td>9</td>\n",
       "      <td>{'n_estimators': 100, 'max_leaf_nodes': 3, 'ma...</td>\n",
       "      <td>0.961809</td>\n",
       "      <td>0.975879</td>\n",
       "      <td>0.951759</td>\n",
       "      <td>0.948744</td>\n",
       "      <td>0.924547</td>\n",
       "      <td>0.952548</td>\n",
       "      <td>0.016907</td>\n",
       "      <td>7</td>\n",
       "    </tr>\n",
       "    <tr>\n",
       "      <th>7</th>\n",
       "      <td>2.013563</td>\n",
       "      <td>1.931626</td>\n",
       "      <td>0.060134</td>\n",
       "      <td>3.523641e-02</td>\n",
       "      <td>100</td>\n",
       "      <td>6</td>\n",
       "      <td>log2</td>\n",
       "      <td>6</td>\n",
       "      <td>{'n_estimators': 100, 'max_leaf_nodes': 6, 'ma...</td>\n",
       "      <td>0.985930</td>\n",
       "      <td>0.989950</td>\n",
       "      <td>0.972864</td>\n",
       "      <td>0.977889</td>\n",
       "      <td>0.937626</td>\n",
       "      <td>0.972852</td>\n",
       "      <td>0.018599</td>\n",
       "      <td>4</td>\n",
       "    </tr>\n",
       "    <tr>\n",
       "      <th>8</th>\n",
       "      <td>0.915329</td>\n",
       "      <td>0.463950</td>\n",
       "      <td>0.029436</td>\n",
       "      <td>1.051744e-02</td>\n",
       "      <td>100</td>\n",
       "      <td>9</td>\n",
       "      <td>sqrt</td>\n",
       "      <td>9</td>\n",
       "      <td>{'n_estimators': 100, 'max_leaf_nodes': 9, 'ma...</td>\n",
       "      <td>0.990955</td>\n",
       "      <td>0.992965</td>\n",
       "      <td>0.985930</td>\n",
       "      <td>0.980905</td>\n",
       "      <td>0.977867</td>\n",
       "      <td>0.985724</td>\n",
       "      <td>0.005741</td>\n",
       "      <td>2</td>\n",
       "    </tr>\n",
       "    <tr>\n",
       "      <th>9</th>\n",
       "      <td>0.926014</td>\n",
       "      <td>0.250064</td>\n",
       "      <td>0.063474</td>\n",
       "      <td>3.735884e-02</td>\n",
       "      <td>150</td>\n",
       "      <td>9</td>\n",
       "      <td>sqrt</td>\n",
       "      <td>3</td>\n",
       "      <td>{'n_estimators': 150, 'max_leaf_nodes': 9, 'ma...</td>\n",
       "      <td>0.964824</td>\n",
       "      <td>0.981910</td>\n",
       "      <td>0.963819</td>\n",
       "      <td>0.951759</td>\n",
       "      <td>0.932596</td>\n",
       "      <td>0.958981</td>\n",
       "      <td>0.016319</td>\n",
       "      <td>5</td>\n",
       "    </tr>\n",
       "  </tbody>\n",
       "</table>\n",
       "</div>"
      ],
      "text/plain": [
       "   mean_fit_time  std_fit_time  mean_score_time  std_score_time  \\\n",
       "0       0.698944      0.204132         0.009375    7.655006e-03   \n",
       "1       0.303458      0.149749         0.015977    1.700903e-02   \n",
       "2       0.169571      0.085012         0.012505    6.252468e-03   \n",
       "3       0.408682      0.020843         0.015622    7.747687e-07   \n",
       "4       0.131220      0.007654         0.006248    7.652378e-03   \n",
       "5       0.860406      1.058544         0.044898    6.737320e-02   \n",
       "6       6.833428      1.658851         0.570777    4.276782e-01   \n",
       "7       2.013563      1.931626         0.060134    3.523641e-02   \n",
       "8       0.915329      0.463950         0.029436    1.051744e-02   \n",
       "9       0.926014      0.250064         0.063474    3.735884e-02   \n",
       "\n",
       "  param_n_estimators param_max_leaf_nodes param_max_features param_max_depth  \\\n",
       "0                 50                    3               None               3   \n",
       "1                 25                    3               log2               6   \n",
       "2                 25                    9               sqrt               3   \n",
       "3                 50                    6               None               6   \n",
       "4                 25                    9               sqrt               9   \n",
       "5                 50                    3               sqrt               6   \n",
       "6                100                    3               None               9   \n",
       "7                100                    6               log2               6   \n",
       "8                100                    9               sqrt               9   \n",
       "9                150                    9               sqrt               3   \n",
       "\n",
       "                                              params  split0_test_score  \\\n",
       "0  {'n_estimators': 50, 'max_leaf_nodes': 3, 'max...           0.961809   \n",
       "1  {'n_estimators': 25, 'max_leaf_nodes': 3, 'max...           0.950754   \n",
       "2  {'n_estimators': 25, 'max_leaf_nodes': 9, 'max...           0.951759   \n",
       "3  {'n_estimators': 50, 'max_leaf_nodes': 6, 'max...           0.989950   \n",
       "4  {'n_estimators': 25, 'max_leaf_nodes': 9, 'max...           0.990955   \n",
       "5  {'n_estimators': 50, 'max_leaf_nodes': 3, 'max...           0.956784   \n",
       "6  {'n_estimators': 100, 'max_leaf_nodes': 3, 'ma...           0.961809   \n",
       "7  {'n_estimators': 100, 'max_leaf_nodes': 6, 'ma...           0.985930   \n",
       "8  {'n_estimators': 100, 'max_leaf_nodes': 9, 'ma...           0.990955   \n",
       "9  {'n_estimators': 150, 'max_leaf_nodes': 9, 'ma...           0.964824   \n",
       "\n",
       "   split1_test_score  split2_test_score  split3_test_score  split4_test_score  \\\n",
       "0           0.974874           0.951759           0.948744           0.924547   \n",
       "1           0.975879           0.947739           0.948744           0.924547   \n",
       "2           0.981910           0.958794           0.950754           0.931590   \n",
       "3           0.985930           0.972864           0.987940           0.970825   \n",
       "4           0.992965           0.983920           0.989950           0.977867   \n",
       "5           0.976884           0.949749           0.946734           0.923541   \n",
       "6           0.975879           0.951759           0.948744           0.924547   \n",
       "7           0.989950           0.972864           0.977889           0.937626   \n",
       "8           0.992965           0.985930           0.980905           0.977867   \n",
       "9           0.981910           0.963819           0.951759           0.932596   \n",
       "\n",
       "   mean_test_score  std_test_score  rank_test_score  \n",
       "0         0.952347        0.016632                8  \n",
       "1         0.949533        0.016271               10  \n",
       "2         0.954961        0.016218                6  \n",
       "3         0.981502        0.008013                3  \n",
       "4         0.987131        0.005527                1  \n",
       "5         0.950738        0.017186                9  \n",
       "6         0.952548        0.016907                7  \n",
       "7         0.972852        0.018599                4  \n",
       "8         0.985724        0.005741                2  \n",
       "9         0.958981        0.016319                5  "
      ]
     },
     "execution_count": 77,
     "metadata": {},
     "output_type": "execute_result"
    }
   ],
   "source": [
    "result= pd.DataFrame(classifier.cv_results_)\n",
    "result"
   ]
  },
  {
   "cell_type": "code",
   "execution_count": 78,
   "id": "e6f390be",
   "metadata": {},
   "outputs": [
    {
     "name": "stdout",
     "output_type": "stream",
     "text": [
      "{'n_estimators': 25, 'max_leaf_nodes': 9, 'max_features': 'sqrt', 'max_depth': 9}\n"
     ]
    }
   ],
   "source": [
    "best_paras=classifier.best_params_\n",
    "print(best_paras)"
   ]
  },
  {
   "cell_type": "code",
   "execution_count": 79,
   "id": "2a648426",
   "metadata": {},
   "outputs": [
    {
     "data": {
      "text/plain": [
       "0.9871312295885868"
      ]
     },
     "execution_count": 79,
     "metadata": {},
     "output_type": "execute_result"
    }
   ],
   "source": [
    "highest_accuracy=classifier.best_score_\n",
    "highest_accuracy"
   ]
  },
  {
   "cell_type": "code",
   "execution_count": 82,
   "id": "9ac68929",
   "metadata": {},
   "outputs": [],
   "source": [
    "resultrscv=result[['param_n_estimators', \n",
    "    'param_max_features', \n",
    "    'param_max_depth', \n",
    "    'param_max_leaf_nodes',\"mean_test_score\"]]"
   ]
  },
  {
   "cell_type": "code",
   "execution_count": 70,
   "id": "acefd969",
   "metadata": {},
   "outputs": [
    {
     "data": {
      "text/html": [
       "<div>\n",
       "<style scoped>\n",
       "    .dataframe tbody tr th:only-of-type {\n",
       "        vertical-align: middle;\n",
       "    }\n",
       "\n",
       "    .dataframe tbody tr th {\n",
       "        vertical-align: top;\n",
       "    }\n",
       "\n",
       "    .dataframe thead th {\n",
       "        text-align: right;\n",
       "    }\n",
       "</style>\n",
       "<table border=\"1\" class=\"dataframe\">\n",
       "  <thead>\n",
       "    <tr style=\"text-align: right;\">\n",
       "      <th></th>\n",
       "      <th>param_min_samples_split</th>\n",
       "      <th>param_max_depth</th>\n",
       "      <th>param_min_samples_leaf</th>\n",
       "      <th>mean_test_score</th>\n",
       "    </tr>\n",
       "  </thead>\n",
       "  <tbody>\n",
       "    <tr>\n",
       "      <th>0</th>\n",
       "      <td>2</td>\n",
       "      <td>20</td>\n",
       "      <td>1</td>\n",
       "      <td>0.982911</td>\n",
       "    </tr>\n",
       "    <tr>\n",
       "      <th>1</th>\n",
       "      <td>2</td>\n",
       "      <td>30</td>\n",
       "      <td>1</td>\n",
       "      <td>0.982911</td>\n",
       "    </tr>\n",
       "    <tr>\n",
       "      <th>2</th>\n",
       "      <td>2</td>\n",
       "      <td>10</td>\n",
       "      <td>4</td>\n",
       "      <td>0.987736</td>\n",
       "    </tr>\n",
       "    <tr>\n",
       "      <th>3</th>\n",
       "      <td>10</td>\n",
       "      <td>10</td>\n",
       "      <td>2</td>\n",
       "      <td>0.988138</td>\n",
       "    </tr>\n",
       "    <tr>\n",
       "      <th>4</th>\n",
       "      <td>10</td>\n",
       "      <td>20</td>\n",
       "      <td>2</td>\n",
       "      <td>0.986731</td>\n",
       "    </tr>\n",
       "    <tr>\n",
       "      <th>5</th>\n",
       "      <td>2</td>\n",
       "      <td>10</td>\n",
       "      <td>1</td>\n",
       "      <td>0.984720</td>\n",
       "    </tr>\n",
       "    <tr>\n",
       "      <th>6</th>\n",
       "      <td>5</td>\n",
       "      <td>30</td>\n",
       "      <td>1</td>\n",
       "      <td>0.983715</td>\n",
       "    </tr>\n",
       "    <tr>\n",
       "      <th>7</th>\n",
       "      <td>2</td>\n",
       "      <td>20</td>\n",
       "      <td>2</td>\n",
       "      <td>0.983111</td>\n",
       "    </tr>\n",
       "    <tr>\n",
       "      <th>8</th>\n",
       "      <td>5</td>\n",
       "      <td>30</td>\n",
       "      <td>2</td>\n",
       "      <td>0.984720</td>\n",
       "    </tr>\n",
       "    <tr>\n",
       "      <th>9</th>\n",
       "      <td>5</td>\n",
       "      <td>20</td>\n",
       "      <td>4</td>\n",
       "      <td>0.987133</td>\n",
       "    </tr>\n",
       "  </tbody>\n",
       "</table>\n",
       "</div>"
      ],
      "text/plain": [
       "  param_min_samples_split param_max_depth param_min_samples_leaf  \\\n",
       "0                       2              20                      1   \n",
       "1                       2              30                      1   \n",
       "2                       2              10                      4   \n",
       "3                      10              10                      2   \n",
       "4                      10              20                      2   \n",
       "5                       2              10                      1   \n",
       "6                       5              30                      1   \n",
       "7                       2              20                      2   \n",
       "8                       5              30                      2   \n",
       "9                       5              20                      4   \n",
       "\n",
       "   mean_test_score  \n",
       "0         0.982911  \n",
       "1         0.982911  \n",
       "2         0.987736  \n",
       "3         0.988138  \n",
       "4         0.986731  \n",
       "5         0.984720  \n",
       "6         0.983715  \n",
       "7         0.983111  \n",
       "8         0.984720  \n",
       "9         0.987133  "
      ]
     },
     "execution_count": 70,
     "metadata": {},
     "output_type": "execute_result"
    }
   ],
   "source": [
    "resultrscv"
   ]
  },
  {
   "cell_type": "code",
   "execution_count": 86,
   "id": "fd708bd2",
   "metadata": {},
   "outputs": [],
   "source": [
    "rfc1=RandomForestClassifier(n_estimators=25, max_leaf_nodes=9, max_features= \"sqrt\", max_depth=9)"
   ]
  },
  {
   "cell_type": "code",
   "execution_count": 89,
   "id": "7e9151df",
   "metadata": {
    "scrolled": true
   },
   "outputs": [
    {
     "name": "stdout",
     "output_type": "stream",
     "text": [
      "ac=0.992964824120603\n",
      "cm=[[507   5]\n",
      " [  2 481]]\n",
      "pc=0.9897119341563786\n"
     ]
    }
   ],
   "source": [
    "rfc1.fit(X_train,Y_train)\n",
    "y1_pred= rfc1.predict(X_test)\n",
    "ac1=accuracy_score(Y_test,y1_pred)\n",
    "cm1=confusion_matrix(Y_test,y1_pred)\n",
    "pc1= precision_score(Y_test, y1_pred)\n",
    "print(\"ac={}\\ncm={}\\npc={}\".format(ac1,cm1,pc1))  "
   ]
  },
  {
   "cell_type": "markdown",
   "id": "a1203ce8",
   "metadata": {},
   "source": [
    "### Accuracy and precision before randomized search:\n",
    "Score of RandomForestClassifier() :\n",
    "ac=0.9919597989949749\n",
    "pc=0.9876796714579056\n",
    "###  Accuracy and precision after randomized search:\n",
    "Score of RandomForestClassifier():\n",
    "ac=0.992964824120603\n",
    "pc=0.9897119341563786"
   ]
  },
  {
   "cell_type": "code",
   "execution_count": null,
   "id": "55e871f3",
   "metadata": {},
   "outputs": [],
   "source": []
  },
  {
   "cell_type": "code",
   "execution_count": null,
   "id": "37d849f4",
   "metadata": {},
   "outputs": [],
   "source": []
  },
  {
   "cell_type": "code",
   "execution_count": null,
   "id": "1c505009",
   "metadata": {},
   "outputs": [],
   "source": []
  },
  {
   "cell_type": "code",
   "execution_count": null,
   "id": "ef483cad",
   "metadata": {},
   "outputs": [],
   "source": []
  },
  {
   "cell_type": "code",
   "execution_count": null,
   "id": "a8350d9a",
   "metadata": {},
   "outputs": [],
   "source": []
  }
 ],
 "metadata": {
  "kernelspec": {
   "display_name": "Python 3 (ipykernel)",
   "language": "python",
   "name": "python3"
  },
  "language_info": {
   "codemirror_mode": {
    "name": "ipython",
    "version": 3
   },
   "file_extension": ".py",
   "mimetype": "text/x-python",
   "name": "python",
   "nbconvert_exporter": "python",
   "pygments_lexer": "ipython3",
   "version": "3.10.9"
  }
 },
 "nbformat": 4,
 "nbformat_minor": 5
}
